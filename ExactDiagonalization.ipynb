{
 "cells": [
  {
   "cell_type": "code",
   "execution_count": 1,
   "metadata": {},
   "outputs": [
    {
     "name": "stdout",
     "output_type": "stream",
     "text": [
      "Exact diagonalizatoin code\n",
      "Nx x Ny: 4 x 2\n",
      "U:-2\n",
      "μ:-1.0\n",
      "Periodic boundary condision in x-direction:false\n",
      "Periodic boundary condision in y-direction:false\n",
      "----------------------------------------\n",
      "Numbers of each spin are fixed\n",
      "Num. of up spins: 4\n",
      "Num. of down spins: 4\n",
      "Dimension with fixed n:4900\n",
      "Time for constructing operators:\n",
      "  0.670095 seconds (1.71 M allocations: 69.276 MiB, 2.91% gc time)\n",
      "----------------------------------------\n",
      "Full dense matrix mode: \n",
      "Time for calcualting eigenvalues:\n",
      " 17.388997 seconds (85.28 k allocations: 372.987 MiB, 0.55% gc time)\n",
      "Minimum Eigenvalue: -7.117446580313459\n",
      "----------------------------------------\n",
      "Sparse matrix mode with the use of the LOBPCG: \n",
      "Time for calcualting eigenvalues with:\n",
      "  1.845814 seconds (456.78 k allocations: 830.102 MiB, 8.16% gc time)\n",
      "Minimum Eigenvalue: -7.117446580312738\n"
     ]
    }
   ],
   "source": [
    "include(\"exact.jl\")\n",
    "using Exact\n",
    "using Combinatorics\n",
    "\n",
    "const U=-2\n",
    "const μ=U/2\n",
    "const nx = 4\n",
    "const ny = 2\n",
    "const β=100.0\n",
    "const tri_periodic_x = false\n",
    "const tri_periodic_y = false\n",
    "const fulldiag = false\n",
    "const nfix = true\n",
    "#c = [i for i in 1:5]\n",
    "#println(c)\n",
    "#baseup = collect(Combinatorics.combinations(c,2))\n",
    "#println(typeof(baseup))\n",
    "#println(baseup)\n",
    "#baseup=map(x -> x+10,baseup)\n",
    "#println(baseup)\n",
    "#println(findfirst([[1,2],[4,2],[3,5],[3,1],[5,2]],[5,2]))\n",
    "\n",
    "\n",
    "#for xs in Combinatorics.combinations(c,2)\n",
    "#    #println(xs)\n",
    "#end\n",
    "\n",
    "Exact.exact_main!(U,μ,nx,ny,β,tri_periodic_x,tri_periodic_y,fulldiag,nfix)"
   ]
  },
  {
   "cell_type": "code",
   "execution_count": null,
   "metadata": {
    "collapsed": true
   },
   "outputs": [],
   "source": []
  }
 ],
 "metadata": {
  "kernelspec": {
   "display_name": "Julia 0.6.0",
   "language": "julia",
   "name": "julia-0.6"
  },
  "language_info": {
   "file_extension": ".jl",
   "mimetype": "application/julia",
   "name": "julia",
   "version": "0.6.0"
  }
 },
 "nbformat": 4,
 "nbformat_minor": 2
}
